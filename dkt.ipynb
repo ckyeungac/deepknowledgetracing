{
 "cells": [
  {
   "cell_type": "code",
   "execution_count": 1,
   "metadata": {
    "collapsed": true
   },
   "outputs": [],
   "source": [
    "import os\n",
    "import csv\n",
    "import random\n",
    "import time\n",
    "import tensorflow as tf\n",
    "import numpy as np\n",
    "from sklearn.metrics import roc_curve, auc\n",
    "\n",
    "import logging\n",
    "logger = logging.getLogger(__name__)"
   ]
  },
  {
   "cell_type": "code",
   "execution_count": 2,
   "metadata": {
    "collapsed": false
   },
   "outputs": [],
   "source": [
    "DATA_DIR = './data/'\n",
    "train_file = os.path.join(DATA_DIR, 'builder_train.csv')\n",
    "test_file = os.path.join(DATA_DIR, 'builder_test.csv')\n",
    "# train_file = os.path.join(DATA_DIR, '0910_b_train.csv')\n",
    "# test_file = os.path.join(DATA_DIR, '0910_b_test.csv')"
   ]
  },
  {
   "cell_type": "code",
   "execution_count": 3,
   "metadata": {
    "collapsed": true
   },
   "outputs": [],
   "source": [
    "def read_data_from_csv(filename):\n",
    "    rows = []\n",
    "    max_num_problems_answered = 0\n",
    "    num_problems = 0\n",
    "    \n",
    "    print(\"Reading {0}\".format(filename))\n",
    "    with open(filename, 'r') as f:\n",
    "        reader = csv.reader(f, delimiter=',')\n",
    "        for row in reader:\n",
    "            rows.append(row)\n",
    "    print(\"{0} lines was read\".format(len(rows)))\n",
    "    \n",
    "    # tuples stores the student answering sequence as \n",
    "    # ([num_problems_answered], [problem_ids], [is_corrects])\n",
    "    tuples = []\n",
    "    for i in range(0, len(rows), 3):\n",
    "        # numbers of problem a student answered\n",
    "        num_problems_answered = int(rows[i][0])\n",
    "        \n",
    "        # only keep student with at least 3 records.\n",
    "        if num_problems_answered <= 2:\n",
    "            continue\n",
    "        \n",
    "        problem_ids = rows[i+1]\n",
    "        is_corrects = rows[i+2]\n",
    "        \n",
    "        invalid_ids_loc = [i for i, pid in enumerate(problem_ids) if pid=='']        \n",
    "        for invalid_loc in invalid_ids_loc:\n",
    "            del problem_ids[invalid_loc]\n",
    "            del is_corrects[invalid_loc]\n",
    "        \n",
    "        tup =(num_problems_answered, problem_ids, is_corrects)\n",
    "        tuples.append(tup)\n",
    "        \n",
    "        if max_num_problems_answered < num_problems_answered:\n",
    "            max_num_problems_answered = num_problems_answered\n",
    "        \n",
    "        pid = max(int(pid) for pid in problem_ids if pid!='')\n",
    "        if num_problems < pid:\n",
    "            num_problems = pid\n",
    "    # add 1 to num_problems because 0 is in the pid\n",
    "    num_problems+=1\n",
    "\n",
    "    #shuffle the tuple\n",
    "    random.shuffle(tuples)\n",
    "\n",
    "    print (\"max_num_problems_answered:\", max_num_problems_answered)\n",
    "    print (\"num_problems:\", num_problems)\n",
    "    print(\"The number of students is {0}\".format(len(tuples)))\n",
    "    print(\"Finish reading data.\")\n",
    "    \n",
    "    return tuples, max_num_problems_answered, num_problems"
   ]
  },
  {
   "cell_type": "code",
   "execution_count": 4,
   "metadata": {
    "collapsed": true
   },
   "outputs": [],
   "source": [
    "def padding(question_seq, question_corr, target_length):\n",
    "    num_questions = len(question_seq)\n",
    "    pad_length = target_length - num_questions\n",
    "    question_seq += [-1]*pad_length\n",
    "    question_corr += [0]*pad_length\n",
    "    return (question_seq, question_corr)"
   ]
  },
  {
   "cell_type": "code",
   "execution_count": 5,
   "metadata": {
    "collapsed": false
   },
   "outputs": [
    {
     "name": "stdout",
     "output_type": "stream",
     "text": [
      "Reading ./data/builder_train.csv\n",
      "10083 lines was read\n",
      "max_num_problems_answered: 4290\n",
      "num_problems: 124\n",
      "The number of students is 3135\n",
      "Finish reading data.\n",
      "time used: 0.548058271408081s\n"
     ]
    }
   ],
   "source": [
    "start_time = time.time()\n",
    "\n",
    "students_train, max_num_problems_answered_train, num_problems = \\\n",
    "read_data_from_csv(train_file)\n",
    "\n",
    "students_train = [padding(q_seq, q_corr, max_num_problems_answered_train) \n",
    "                  for _, q_seq, q_corr in students_train]\n",
    "\n",
    "end_time = time.time()\n",
    "print(\"time used: {0}s\".format(end_time-start_time))"
   ]
  },
  {
   "cell_type": "markdown",
   "metadata": {},
   "source": [
    "## Student Model"
   ]
  },
  {
   "cell_type": "markdown",
   "metadata": {},
   "source": [
    "### Data processing\n",
    "We define 4 placeholders here\n",
    "1. inputs_seq: the padded students answering sequence.\n",
    "2. inputs_corr: the padded students correctness sequence.\n",
    "3. y_seq: the padded student answering sequence which roll 1 unit to the right.\n",
    "4. y_seq_corr: the padded student correctness sequence which roll 1 unit to the right.\n",
    "\n",
    "The seq is first one-hot encoded and then used for finding the one-hot encoded correctmapping. For example, the student i has a seq [1 3 1 1] with correct map [0 1 1 1]. The seq will be one hot encoded as:\n",
    "$$\n",
    "\\left[\n",
    "    \\begin{array}{ccccc}\n",
    "        0&1&0&0&0\\\\\n",
    "        0&0&0&1&0\\\\\n",
    "        0&1&0&0&0\\\\\n",
    "        0&1&0&0&0\\\\\n",
    "    \\end{array}\n",
    "\\right]\n",
    "$$\n",
    "\n",
    "The corr will be one hot encoded as:\n",
    "$$\n",
    "\\left[\n",
    "    \\begin{array}{ccccc}\n",
    "        0&0&0&0&0\\\\\n",
    "        0&0&0&1&0\\\\\n",
    "        0&1&0&0&0\\\\\n",
    "        0&1&0&0&0\\\\\n",
    "    \\end{array}\n",
    "\\right]\n",
    "$$\n",
    "\n",
    "Then, it will be concatenated into $X^i$:\n",
    "$$\n",
    "\\left[\n",
    "    \\begin{array}{ccccc|ccccc}\n",
    "        0&1&0&0&0&0&0&0&0&0\\\\\n",
    "        0&0&0&1&0&0&0&0&1&0\\\\\n",
    "        0&1&0&0&0&0&1&0&0&0\\\\\n",
    "        0&1&0&0&0&0&1&0&0&0\\\\\n",
    "    \\end{array}\n",
    "\\right]\n",
    "$$"
   ]
  },
  {
   "cell_type": "code",
   "execution_count": 6,
   "metadata": {
    "collapsed": false
   },
   "outputs": [
    {
     "name": "stdout",
     "output_type": "stream",
     "text": [
      "Tensor(\"inputs_seq_oh1:0\", shape=(32, 4290, 124), dtype=float32)\n"
     ]
    }
   ],
   "source": [
    "batch_size = 32\n",
    "\n",
    "# network configuration\n",
    "num_layers = 1\n",
    "state_size = 200\n",
    "num_steps = max_num_problems_answered_train\n",
    "input_size = num_problems\n",
    "\n",
    "\n",
    "# It is expected to receives a sequence of question_id and the correctness\n",
    "# that student answered. For example, the inputs sequences may be \n",
    "# [15, 25, 25, -1, -1] and the inputs_correctness is [1, 0, 1, 0, 0].\n",
    "inputs_seq = tf.placeholder(tf.int32, [batch_size, num_steps])\n",
    "inputs_corr = tf.placeholder(tf.int32, [batch_size, num_steps])\n",
    "\n",
    "# The inputs_sequence is then one-hot encoded\n",
    "inputs_seq_oh = tf.one_hot(inputs_seq, depth=num_problems, name='inputs_seq_oh1')\n",
    "print(inputs_seq_oh)\n",
    "\n",
    "# Compute the correct matrix\n",
    "inputs_seq_oh = tf.cast(inputs_seq_oh, tf.int32, name='inputs_seq_oh2')\n",
    "inputs_seq_flat = tf.reshape(inputs_seq_oh, [-1, num_problems], name='inputs_seq_flat1')\n",
    "inputs_corr_flat = tf.reshape(inputs_corr, [-1], name='inputs_corr_flat1')\n",
    "inputs_corr_flat = tf.transpose(tf.multiply(tf.transpose(inputs_seq_flat), inputs_corr_flat), name='inputs_corr_flat1')\n",
    "inputs_corr_oh = tf.reshape(inputs_corr_flat, [-1, num_steps, num_problems], name='inputs_corr_oh1')\n",
    "\n",
    "# Concatenate the sequence and correctness into the input tensor X\n",
    "X = tf.concat((inputs_seq_oh, inputs_corr_oh), axis=2)\n",
    "X = tf.cast(X, tf.float32)\n",
    "\n",
    "# Do the same thing on y\n",
    "y_seq = tf.placeholder(tf.int32, [batch_size, num_steps])\n",
    "y_corr = tf.placeholder(tf.int32, [batch_size, num_steps])\n",
    "\n",
    "y_seq_oh = tf.one_hot(y_seq, depth=num_problems)\n",
    "y_seq_oh = tf.cast(y_seq_oh, tf.int32)\n",
    "y_seq_flat = tf.reshape(y_seq_oh, [-1, num_problems])\n",
    "y_corr_flat = tf.reshape(y_corr, [-1])\n",
    "y_corr_flat = tf.transpose(tf.multiply(tf.transpose(y_seq_flat), y_corr_flat))\n",
    "y_corr_oh = tf.reshape(y_corr_flat, [-1, num_steps, num_problems])"
   ]
  },
  {
   "cell_type": "markdown",
   "metadata": {},
   "source": [
    "### Network Configuration\n",
    "There are basically 2 elements needed to construct the LSTM network\n",
    "1. The cell, and\n",
    "2. The rnn structure.\n",
    "\n",
    "The cell is defined via the tf.contrib.rnn library. It supports the multilayer RNN as well.\n",
    "\n",
    "The RNN is defined via the tf.nn.dynamic_rnn. It is parameterized by the cell defined, the input X, and a initial state."
   ]
  },
  {
   "cell_type": "code",
   "execution_count": 7,
   "metadata": {
    "collapsed": false
   },
   "outputs": [
    {
     "name": "stdout",
     "output_type": "stream",
     "text": [
      "the states series is:\n",
      " Tensor(\"rnn/rnn/transpose:0\", shape=(32, 4290, 200), dtype=float32)\n",
      "\n",
      "the current_state is:\n",
      " (LSTMStateTuple(c=<tf.Tensor 'rnn/rnn/while/Exit_2:0' shape=(32, 200) dtype=float32>, h=<tf.Tensor 'rnn/rnn/while/Exit_3:0' shape=(32, 200) dtype=float32>),)\n"
     ]
    }
   ],
   "source": [
    "# build up the network\n",
    "with tf.variable_scope('cell'):\n",
    "    # single layer\n",
    "    cell = tf.contrib.rnn.LSTMCell(num_units=state_size,\n",
    "                                   forget_bias=1.0,\n",
    "                                   state_is_tuple=True)\n",
    "    \n",
    "    # multi layers\n",
    "    cell = tf.contrib.rnn.MultiRNNCell([cell]*num_layers, state_is_tuple=True)\n",
    "\n",
    "with tf.variable_scope('rnn'):\n",
    "    _init_state = cell.zero_state(batch_size, dtype=tf.float32)\n",
    "    states_series, current_state = tf.nn.dynamic_rnn(cell, \n",
    "                                                    X,\n",
    "                                                    initial_state=_init_state,\n",
    "                                                    time_major=False)\n",
    "\n",
    "print(\"the states series is:\\n\", states_series)\n",
    "print(\"\\nthe current_state is:\\n\", current_state)"
   ]
  },
  {
   "cell_type": "code",
   "execution_count": 8,
   "metadata": {
    "collapsed": false
   },
   "outputs": [
    {
     "name": "stdout",
     "output_type": "stream",
     "text": [
      "Tensor(\"Sigmoid:0\", shape=(137280, 124), dtype=float32)\n",
      "Tensor(\"Cast_2:0\", shape=(137280, 124), dtype=float32)\n",
      "Tensor(\"Mul_2:0\", shape=(137280, 124), dtype=float32)\n"
     ]
    }
   ],
   "source": [
    "W_yh = tf.Variable(tf.random_normal([state_size, num_problems]))\n",
    "b_yh = tf.Variable(tf.constant(0.1, shape=[num_problems,]))\n",
    "\n",
    "states_series = tf.reshape(states_series, [-1, state_size])\n",
    "labels = tf.reshape(y_corr_oh, [-1, num_problems])\n",
    "labels = tf.cast(labels, tf.float32)\n",
    "\n",
    "logits = tf.matmul(states_series, W_yh) + b_yh\n",
    "target_logits = tf.multiply(logits, labels)\n",
    "y_pred = tf.sigmoid(logits)\n",
    "\n",
    "print(y_pred)\n",
    "print(labels)\n",
    "print(target_logits)"
   ]
  },
  {
   "cell_type": "code",
   "execution_count": 9,
   "metadata": {
    "collapsed": false
   },
   "outputs": [],
   "source": [
    "loss = tf.reduce_mean(tf.nn.sigmoid_cross_entropy_with_logits(logits=target_logits, labels=labels))\n",
    "optimizer = tf.train.AdamOptimizer(learning_rate=1e-3).minimize(loss)\n",
    "\n",
    "# auc = tf.metrics.auc(labels, y_pred)"
   ]
  },
  {
   "cell_type": "code",
   "execution_count": 10,
   "metadata": {
    "collapsed": true
   },
   "outputs": [],
   "source": [
    "USING_GPU = False\n",
    "num_epochs = 30"
   ]
  },
  {
   "cell_type": "code",
   "execution_count": 11,
   "metadata": {
    "collapsed": false
   },
   "outputs": [],
   "source": [
    "def run_train(sess):\n",
    "    sess.run(tf.global_variables_initializer())\n",
    "    for epoch_idx in range(num_epochs):\n",
    "        print(\"Epochs: \", epoch_idx)\n",
    "        num_students = len(students_train)\n",
    "        for batch_idx in range(0, num_students, batch_size):\n",
    "            start_idx = batch_idx\n",
    "            end_idx = min(num_students, batch_idx+batch_size)\n",
    "            inputs_seq_batch = np.array([tup[0] for tup in students_train[start_idx:end_idx]], dtype=np.int32)\n",
    "            inputs_corr_batch = np.array([tup[1] for tup in students_train[start_idx:end_idx]], dtype=np.int32)\n",
    "\n",
    "            # shift y to right with 1\n",
    "            y_seq_batch = np.array([np.roll(tup[0], 1) for tup in students_train[start_idx:end_idx]], dtype=np.int32)\n",
    "            y_corr_batch = np.array([np.roll(tup[1], 1) for tup in students_train[start_idx:end_idx]], dtype=np.int32)\n",
    "            #print(inputs_seq_batch.dtype, inputs_corr_batch.dtype, y_seq_batch.dtype, y_corr_batch.dtype)\n",
    "            \n",
    "            _optimizer= sess.run([optimizer],\n",
    "                    feed_dict={\n",
    "                    inputs_seq: inputs_seq_batch,\n",
    "                    inputs_corr: inputs_corr_batch,\n",
    "                    y_seq: y_seq_batch,\n",
    "                    y_corr: y_corr_batch,\n",
    "                })\n",
    "\n",
    "            if batch_idx%100 == 0:\n",
    "                _loss= sess.run([loss],\n",
    "                    feed_dict={\n",
    "                    inputs_seq: inputs_seq_batch,\n",
    "                    inputs_corr: inputs_corr_batch,\n",
    "                    y_seq: y_seq_batch,\n",
    "                    y_corr: y_corr_batch,\n",
    "                })\n",
    "                print(\"Epoch {0}, batch {1}, loss value: {2}\".format(epoch_idx, batch_idx, _loss))\n",
    "\n",
    "                \n",
    "def run_test(sess):\n",
    "    pass"
   ]
  },
  {
   "cell_type": "code",
   "execution_count": 12,
   "metadata": {
    "collapsed": false
   },
   "outputs": [
    {
     "name": "stdout",
     "output_type": "stream",
     "text": [
      "Epochs:  0\n",
      "Epoch 0, batch 0, loss value: [0.72782922]\n",
      "Epoch 0, batch 800, loss value: [0.72770357]\n",
      "Epoch 0, batch 1600, loss value: [0.72780907]\n",
      "Epoch 0, batch 2400, loss value: [0.72778744]\n"
     ]
    },
    {
     "ename": "ValueError",
     "evalue": "Cannot feed value of shape (31, 4290) for Tensor 'Placeholder:0', which has shape '(32, 4290)'",
     "output_type": "error",
     "traceback": [
      "\u001b[1;31m---------------------------------------------------------------------------\u001b[0m",
      "\u001b[1;31mValueError\u001b[0m                                Traceback (most recent call last)",
      "\u001b[1;32m<ipython-input-12-ae9f9d5fef36>\u001b[0m in \u001b[0;36m<module>\u001b[1;34m()\u001b[0m\n\u001b[0;32m      7\u001b[0m \u001b[1;32melse\u001b[0m\u001b[1;33m:\u001b[0m\u001b[1;33m\u001b[0m\u001b[0m\n\u001b[0;32m      8\u001b[0m     \u001b[1;32mwith\u001b[0m \u001b[0mtf\u001b[0m\u001b[1;33m.\u001b[0m\u001b[0mSession\u001b[0m\u001b[1;33m(\u001b[0m\u001b[1;33m)\u001b[0m \u001b[1;32mas\u001b[0m \u001b[0msess\u001b[0m\u001b[1;33m:\u001b[0m\u001b[1;33m\u001b[0m\u001b[0m\n\u001b[1;32m----> 9\u001b[1;33m         \u001b[0mrun_train\u001b[0m\u001b[1;33m(\u001b[0m\u001b[0msess\u001b[0m\u001b[1;33m)\u001b[0m\u001b[1;33m\u001b[0m\u001b[0m\n\u001b[0m\u001b[0;32m     10\u001b[0m \u001b[1;33m\u001b[0m\u001b[0m\n\u001b[0;32m     11\u001b[0m \u001b[0mend_time\u001b[0m \u001b[1;33m=\u001b[0m \u001b[0mtime\u001b[0m\u001b[1;33m.\u001b[0m\u001b[0mtime\u001b[0m\u001b[1;33m(\u001b[0m\u001b[1;33m)\u001b[0m\u001b[1;33m\u001b[0m\u001b[0m\n",
      "\u001b[1;32m<ipython-input-11-5452941ecc86>\u001b[0m in \u001b[0;36mrun_train\u001b[1;34m(sess)\u001b[0m\n\u001b[0;32m     20\u001b[0m                     \u001b[0minputs_corr\u001b[0m\u001b[1;33m:\u001b[0m \u001b[0minputs_corr_batch\u001b[0m\u001b[1;33m,\u001b[0m\u001b[1;33m\u001b[0m\u001b[0m\n\u001b[0;32m     21\u001b[0m                     \u001b[0my_seq\u001b[0m\u001b[1;33m:\u001b[0m \u001b[0my_seq_batch\u001b[0m\u001b[1;33m,\u001b[0m\u001b[1;33m\u001b[0m\u001b[0m\n\u001b[1;32m---> 22\u001b[1;33m                     \u001b[0my_corr\u001b[0m\u001b[1;33m:\u001b[0m \u001b[0my_corr_batch\u001b[0m\u001b[1;33m,\u001b[0m\u001b[1;33m\u001b[0m\u001b[0m\n\u001b[0m\u001b[0;32m     23\u001b[0m                 })\n\u001b[0;32m     24\u001b[0m \u001b[1;33m\u001b[0m\u001b[0m\n",
      "\u001b[1;32mC:\\Users\\YEUNG\\Anaconda3\\lib\\site-packages\\tensorflow\\python\\client\\session.py\u001b[0m in \u001b[0;36mrun\u001b[1;34m(self, fetches, feed_dict, options, run_metadata)\u001b[0m\n\u001b[0;32m    765\u001b[0m     \u001b[1;32mtry\u001b[0m\u001b[1;33m:\u001b[0m\u001b[1;33m\u001b[0m\u001b[0m\n\u001b[0;32m    766\u001b[0m       result = self._run(None, fetches, feed_dict, options_ptr,\n\u001b[1;32m--> 767\u001b[1;33m                          run_metadata_ptr)\n\u001b[0m\u001b[0;32m    768\u001b[0m       \u001b[1;32mif\u001b[0m \u001b[0mrun_metadata\u001b[0m\u001b[1;33m:\u001b[0m\u001b[1;33m\u001b[0m\u001b[0m\n\u001b[0;32m    769\u001b[0m         \u001b[0mproto_data\u001b[0m \u001b[1;33m=\u001b[0m \u001b[0mtf_session\u001b[0m\u001b[1;33m.\u001b[0m\u001b[0mTF_GetBuffer\u001b[0m\u001b[1;33m(\u001b[0m\u001b[0mrun_metadata_ptr\u001b[0m\u001b[1;33m)\u001b[0m\u001b[1;33m\u001b[0m\u001b[0m\n",
      "\u001b[1;32mC:\\Users\\YEUNG\\Anaconda3\\lib\\site-packages\\tensorflow\\python\\client\\session.py\u001b[0m in \u001b[0;36m_run\u001b[1;34m(self, handle, fetches, feed_dict, options, run_metadata)\u001b[0m\n\u001b[0;32m    942\u001b[0m                 \u001b[1;34m'Cannot feed value of shape %r for Tensor %r, '\u001b[0m\u001b[1;33m\u001b[0m\u001b[0m\n\u001b[0;32m    943\u001b[0m                 \u001b[1;34m'which has shape %r'\u001b[0m\u001b[1;33m\u001b[0m\u001b[0m\n\u001b[1;32m--> 944\u001b[1;33m                 % (np_val.shape, subfeed_t.name, str(subfeed_t.get_shape())))\n\u001b[0m\u001b[0;32m    945\u001b[0m           \u001b[1;32mif\u001b[0m \u001b[1;32mnot\u001b[0m \u001b[0mself\u001b[0m\u001b[1;33m.\u001b[0m\u001b[0mgraph\u001b[0m\u001b[1;33m.\u001b[0m\u001b[0mis_feedable\u001b[0m\u001b[1;33m(\u001b[0m\u001b[0msubfeed_t\u001b[0m\u001b[1;33m)\u001b[0m\u001b[1;33m:\u001b[0m\u001b[1;33m\u001b[0m\u001b[0m\n\u001b[0;32m    946\u001b[0m             \u001b[1;32mraise\u001b[0m \u001b[0mValueError\u001b[0m\u001b[1;33m(\u001b[0m\u001b[1;34m'Tensor %s may not be fed.'\u001b[0m \u001b[1;33m%\u001b[0m \u001b[0msubfeed_t\u001b[0m\u001b[1;33m)\u001b[0m\u001b[1;33m\u001b[0m\u001b[0m\n",
      "\u001b[1;31mValueError\u001b[0m: Cannot feed value of shape (31, 4290) for Tensor 'Placeholder:0', which has shape '(32, 4290)'"
     ]
    }
   ],
   "source": [
    "start_time = time.time()\n",
    "if USING_GPU:\n",
    "    config = tf.ConfigProto()\n",
    "    config.gpu_options.allow_growth = True\n",
    "    with tf.Session(config=config) as sess:\n",
    "        run_train(sess)\n",
    "else:\n",
    "    with tf.Session() as sess:\n",
    "        run_train(sess)\n",
    "           \n",
    "end_time = time.time()\n",
    "\n",
    "print(\"program run for: {0}s\".format(end_time-start_time))"
   ]
  },
  {
   "cell_type": "code",
   "execution_count": 9,
   "metadata": {
    "collapsed": false
   },
   "outputs": [
    {
     "name": "stdout",
     "output_type": "stream",
     "text": [
      "[[2 1 1 4]\n",
      " [1 3 1 1]\n",
      " [4 0 1 3]]\n",
      "[[1 1 1 0]\n",
      " [0 1 1 1]\n",
      " [1 0 1 1]]\n",
      "[[[0 0 1 0 0]\n",
      "  [0 1 0 0 0]\n",
      "  [0 1 0 0 0]\n",
      "  [0 0 0 0 1]]\n",
      "\n",
      " [[0 1 0 0 0]\n",
      "  [0 0 0 1 0]\n",
      "  [0 1 0 0 0]\n",
      "  [0 1 0 0 0]]\n",
      "\n",
      " [[0 0 0 0 1]\n",
      "  [1 0 0 0 0]\n",
      "  [0 1 0 0 0]\n",
      "  [0 0 0 1 0]]]\n",
      "[[[0 0 1 0 0]\n",
      "  [0 1 0 0 0]\n",
      "  [0 1 0 0 0]\n",
      "  [0 0 0 0 0]]\n",
      "\n",
      " [[0 0 0 0 0]\n",
      "  [0 0 0 1 0]\n",
      "  [0 1 0 0 0]\n",
      "  [0 1 0 0 0]]\n",
      "\n",
      " [[0 0 0 0 1]\n",
      "  [0 0 0 0 0]\n",
      "  [0 1 0 0 0]\n",
      "  [0 0 0 1 0]]]\n"
     ]
    }
   ],
   "source": [
    "if True:\n",
    "    with tf.Session():\n",
    "        # It is expected to receives a sequence of question_id and the correctness\n",
    "        # that student answered. For example, the inputs sequences may be \n",
    "        # [15, 25, 25, -1, -1] and the inputs_correctness is [1, 0, 1, 0, 0].\n",
    "        batch_size =3\n",
    "        num_problems = 5\n",
    "        num_steps = 4\n",
    "        inputs_seq = np.random.randint(num_problems, size=(batch_size, num_steps))\n",
    "        inputs_corr = np.random.randint(2, size=(3,4))\n",
    "        print(inputs_seq)\n",
    "        print(inputs_corr)\n",
    "\n",
    "        # The inputs_sequence is then one-hot encoded\n",
    "        inputs_seq = tf.one_hot(inputs_seq, depth=num_problems)\n",
    "\n",
    "        # Compute the correct map\n",
    "        inputs_seq = tf.cast(inputs_seq, tf.int32)\n",
    "        inputs_seq_flat = tf.reshape(inputs_seq, [-1, num_problems])\n",
    "        inputs_corr_flat = tf.reshape(inputs_corr, [-1])\n",
    "        inputs_corr_flat = tf.transpose(tf.multiply(tf.transpose(inputs_seq_flat), inputs_corr_flat))\n",
    "        inputs_corr = tf.reshape(inputs_corr_flat, [-1, num_steps, num_problems])\n",
    "        \n",
    "        print(inputs_seq.eval())\n",
    "        print(inputs_corr.eval())"
   ]
  },
  {
   "cell_type": "code",
   "execution_count": null,
   "metadata": {
    "collapsed": false
   },
   "outputs": [],
   "source": [
    "X = np.random.randint(124, size=(3, 10))\n",
    "X"
   ]
  },
  {
   "cell_type": "code",
   "execution_count": null,
   "metadata": {
    "collapsed": false
   },
   "outputs": [],
   "source": [
    "help(tf.gather)"
   ]
  },
  {
   "cell_type": "code",
   "execution_count": null,
   "metadata": {
    "collapsed": false
   },
   "outputs": [],
   "source": [
    "x = np.roll([1,2,3,4], 1)\n",
    "loc = x[x>3]\n",
    "x[loc]"
   ]
  },
  {
   "cell_type": "code",
   "execution_count": null,
   "metadata": {
    "collapsed": false
   },
   "outputs": [],
   "source": [
    "x = [1,2,3,4]\n",
    "del x[-2]\n",
    "x"
   ]
  },
  {
   "cell_type": "code",
   "execution_count": null,
   "metadata": {
    "collapsed": true
   },
   "outputs": [],
   "source": []
  }
 ],
 "metadata": {
  "kernelspec": {
   "display_name": "Python 3",
   "language": "python",
   "name": "python3"
  },
  "language_info": {
   "codemirror_mode": {
    "name": "ipython",
    "version": 3
   },
   "file_extension": ".py",
   "mimetype": "text/x-python",
   "name": "python",
   "nbconvert_exporter": "python",
   "pygments_lexer": "ipython3",
   "version": "3.5.2"
  }
 },
 "nbformat": 4,
 "nbformat_minor": 0
}
