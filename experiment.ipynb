{
 "cells": [
  {
   "cell_type": "code",
   "execution_count": 3,
   "metadata": {
    "collapsed": true
   },
   "outputs": [],
   "source": [
    "import tensorflow as tf\n",
    "import numpy as np\n",
    "import os\n",
    "import dkt"
   ]
  },
  {
   "cell_type": "code",
   "execution_count": 4,
   "metadata": {
    "collapsed": false
   },
   "outputs": [],
   "source": [
    "sess = tf.Session()"
   ]
  },
  {
   "cell_type": "code",
   "execution_count": 8,
   "metadata": {
    "collapsed": false
   },
   "outputs": [],
   "source": [
    "X = tf.random_normal(shape=tf.shape([3,4]), mean=0.0, stddev=0, dtype=tf.float32)"
   ]
  },
  {
   "cell_type": "code",
   "execution_count": 9,
   "metadata": {
    "collapsed": false
   },
   "outputs": [
    {
     "name": "stdout",
     "output_type": "stream",
     "text": [
      "[ 0.  0.]\n"
     ]
    }
   ],
   "source": [
    "sess.run(tf.global_variables_initializer())\n",
    "print(sess.run(X))"
   ]
  },
  {
   "cell_type": "code",
   "execution_count": 34,
   "metadata": {
    "collapsed": false
   },
   "outputs": [
    {
     "name": "stdout",
     "output_type": "stream",
     "text": [
      "Reading ./data/skill_id_train.csv\n",
      "10119 lines was read\n",
      "max_num_problems_answered: 1219\n",
      "num_problems: 124\n",
      "The number of students is 3137\n",
      "Finish reading data.\n",
      "Reading ./data/skill_id_test.csv\n",
      "2532 lines was read\n",
      "max_num_problems_answered: 1114\n",
      "num_problems: 124\n",
      "The number of students is 784\n",
      "Finish reading data.\n",
      "Reading ./data/skill_id_train.csv\n",
      "10119 lines was read\n",
      "max_num_problems_answered: 1219\n",
      "num_problems: 124\n",
      "The number of students is 3137\n",
      "Finish reading data.\n",
      "Reading ./data/skill_id_test.csv\n",
      "2532 lines was read\n",
      "max_num_problems_answered: 1114\n",
      "num_problems: 124\n",
      "The number of students is 784\n",
      "Finish reading data.\n"
     ]
    }
   ],
   "source": [
    "from dkt.load_data import ASSISTment2009\n",
    "DATA_DIR = './data/'\n",
    "train_file = 'skill_id_train.csv'\n",
    "test_file = 'skill_id_test.csv'\n",
    "train_path = os.path.join(DATA_DIR, train_file)\n",
    "test_path = os.path.join(DATA_DIR, test_file)\n",
    "\n",
    "data = ASSISTment2009(train_path, test_path, batch_size=32)\n",
    "X1, y1, labels1 = data.train.next_batch()\n",
    "\n",
    "data2 = ASSISTment2009(train_path, test_path, batch_size=32)\n",
    "X2, y2, labels2 = data2.train.next_batch()"
   ]
  },
  {
   "cell_type": "code",
   "execution_count": 47,
   "metadata": {
    "collapsed": false,
    "scrolled": true
   },
   "outputs": [
    {
     "name": "stdout",
     "output_type": "stream",
     "text": [
      "True True True\n",
      "True True True\n",
      "True True True\n",
      "True True True\n",
      "True True True\n",
      "True True True\n",
      "True True True\n",
      "True True True\n",
      "True True True\n",
      "True True True\n",
      "True True True\n",
      "True True True\n",
      "True True True\n",
      "True True True\n",
      "True True True\n",
      "True True True\n",
      "True True True\n",
      "True True True\n",
      "True True True\n",
      "True True True\n",
      "True True True\n",
      "True True True\n",
      "True True True\n",
      "True True True\n",
      "True True True\n",
      "True True True\n",
      "True True True\n",
      "True True True\n",
      "True True True\n",
      "True True True\n",
      "True True True\n",
      "True True True\n",
      "True True True\n",
      "True True True\n",
      "True True True\n",
      "True True True\n",
      "True True True\n",
      "True True True\n",
      "True True True\n",
      "True True True\n",
      "True True True\n",
      "True True True\n",
      "True True True\n",
      "True True True\n",
      "True True True\n",
      "True True True\n",
      "True True True\n",
      "True True True\n",
      "True True True\n",
      "True True True\n",
      "True True True\n",
      "True True True\n",
      "True True True\n",
      "True True True\n",
      "True True True\n",
      "True True True\n",
      "True True True\n",
      "True True True\n",
      "True True True\n",
      "True True True\n",
      "True True True\n",
      "True True True\n",
      "True True True\n",
      "True True True\n",
      "True True True\n",
      "True True True\n",
      "True True True\n",
      "True True True\n",
      "True True True\n",
      "True True True\n",
      "True True True\n",
      "True True True\n",
      "True True True\n",
      "True True True\n",
      "True True True\n",
      "True True True\n",
      "True True True\n",
      "True True True\n",
      "True True True\n",
      "True True True\n",
      "True True True\n",
      "True True True\n",
      "True True True\n",
      "True True True\n",
      "True True True\n",
      "True True True\n",
      "True True True\n",
      "True True True\n",
      "True True True\n",
      "True True True\n",
      "True True True\n",
      "True True True\n",
      "True True True\n",
      "True True True\n",
      "True True True\n",
      "True True True\n",
      "True True True\n",
      "True True True\n",
      "True True True\n"
     ]
    }
   ],
   "source": [
    "for i in range(data.train.num_batches):\n",
    "    X1, y1, labels1 = data.train.next_batch()\n",
    "    X2, y2, labels2 = data2.train.next_batch()\n",
    "    print(np.array_equal(X1, X2), np.array_equal(y1, y2), np.array_equal(labels1, labels2))"
   ]
  },
  {
   "cell_type": "code",
   "execution_count": 48,
   "metadata": {
    "collapsed": false
   },
   "outputs": [],
   "source": [
    "data.train.shuffle()"
   ]
  },
  {
   "cell_type": "code",
   "execution_count": 50,
   "metadata": {
    "collapsed": true
   },
   "outputs": [],
   "source": [
    "data2.train.shuffle()"
   ]
  },
  {
   "cell_type": "code",
   "execution_count": 51,
   "metadata": {
    "collapsed": false,
    "scrolled": true
   },
   "outputs": [
    {
     "name": "stdout",
     "output_type": "stream",
     "text": [
      "False False False\n",
      "False False False\n",
      "False False False\n",
      "False False False\n",
      "False False False\n",
      "False False False\n",
      "False False False\n",
      "False False False\n",
      "False False False\n",
      "False False False\n",
      "False False False\n",
      "False False False\n",
      "False False False\n",
      "False False False\n",
      "False False False\n",
      "False False False\n",
      "False False False\n",
      "False False False\n",
      "False False False\n",
      "False False False\n",
      "False False False\n",
      "False False False\n",
      "False False False\n",
      "False False False\n",
      "False False False\n",
      "False False False\n",
      "False False False\n",
      "False False False\n",
      "False False False\n",
      "False False False\n",
      "False False False\n",
      "False False False\n",
      "False False False\n",
      "False False False\n",
      "False False False\n",
      "False False False\n",
      "False False False\n",
      "False False False\n",
      "False False False\n",
      "False False False\n",
      "False False False\n",
      "False False False\n",
      "False False False\n",
      "False False False\n",
      "False False False\n",
      "False False False\n",
      "False False False\n",
      "False False False\n",
      "False False False\n",
      "False False False\n",
      "False False False\n",
      "False False False\n",
      "False False False\n",
      "False False False\n",
      "False False False\n",
      "False False False\n",
      "False False False\n",
      "False False False\n",
      "False False False\n",
      "False False False\n",
      "False False False\n",
      "False False False\n",
      "False False False\n",
      "False False False\n",
      "False False False\n",
      "False False False\n",
      "False False False\n",
      "False False False\n",
      "False False False\n",
      "False False False\n",
      "False False False\n",
      "False False False\n",
      "False False False\n",
      "False False False\n",
      "False False False\n",
      "False False False\n",
      "False False False\n",
      "False False False\n",
      "False False False\n",
      "False False False\n",
      "False False False\n",
      "False False False\n",
      "False False False\n",
      "False False False\n",
      "False False False\n",
      "False False False\n",
      "False False False\n",
      "False False False\n",
      "False False False\n",
      "False False False\n",
      "False False False\n",
      "False False False\n",
      "False False False\n",
      "False False False\n",
      "False False False\n",
      "False False False\n",
      "False False False\n",
      "False False False\n",
      "False False False\n"
     ]
    }
   ],
   "source": [
    "for i in range(data.train.num_batches):\n",
    "    X1, y1, labels1 = data.train.next_batch()\n",
    "    X2, y2, labels2 = data2.train.next_batch()\n",
    "    print(np.array_equal(X1, X2), np.array_equal(y1, y2), np.array_equal(labels1, labels2))"
   ]
  },
  {
   "cell_type": "code",
   "execution_count": null,
   "metadata": {
    "collapsed": true
   },
   "outputs": [],
   "source": [
    ""
   ]
  }
 ],
 "metadata": {
  "kernelspec": {
   "display_name": "Python 3",
   "language": "python",
   "name": "python3"
  },
  "language_info": {
   "codemirror_mode": {
    "name": "ipython",
    "version": 3.0
   },
   "file_extension": ".py",
   "mimetype": "text/x-python",
   "name": "python",
   "nbconvert_exporter": "python",
   "pygments_lexer": "ipython3",
   "version": "3.5.2"
  }
 },
 "nbformat": 4,
 "nbformat_minor": 0
}